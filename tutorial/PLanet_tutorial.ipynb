{
 "cells": [
  {
   "cell_type": "markdown",
   "metadata": {},
   "source": [
    "# PLanet tutorial \n",
    "Welcome! This is a tutorial for PLanet. We will walk through examples defining\n",
    "experimental designs as a program. You will learn some of Planet's operations\n",
    "and observe the output of PLanet programs. Let's begin!\n"
   ]
  },
  {
   "cell_type": "code",
   "execution_count": 1,
   "metadata": {},
   "outputs": [
    {
     "name": "stdout",
     "output_type": "stream",
     "text": [
      "logger\n"
     ]
    }
   ],
   "source": [
    "# First, import the PLanet library\n",
    "from planet import *"
   ]
  },
  {
   "cell_type": "markdown",
   "metadata": {},
   "source": [
    "## Step 1: Defining Experiment Variables\n",
    "Before constructing a design, we need to know which to include in the experiment. $ExperimentVariables$ in PLanet represent independent and control\n",
    "variables. In the following example, Interface is the name of the variable, and there\n",
    "are three interface conditions (options): baseline, VR, and AR."
   ]
  },
  {
   "cell_type": "code",
   "execution_count": 2,
   "metadata": {},
   "outputs": [],
   "source": [
    "\n",
    "interface = ExperimentVariable(\"interface\", options=[\"baseline\", \"VR\", \"AR\"])"
   ]
  },
  {
   "cell_type": "markdown",
   "metadata": {},
   "source": [
    "We also need to identify the experimental units in the study. Often,\n",
    "experimental units are participants. We will assign variable conditions to these\n",
    "units. Let's sample 12 participants:"
   ]
  },
  {
   "cell_type": "code",
   "execution_count": 3,
   "metadata": {},
   "outputs": [],
   "source": [
    "# Replace n with the number of units in our study (12)\n",
    "participants = Units(12)"
   ]
  },
  {
   "cell_type": "markdown",
   "metadata": {},
   "source": [
    "## Step 2: Creating a Design\n",
    "Now that we've defined our experiment variables, we can start constructing a design. The most\n",
    "basic design in PLanet is a between-subjects design with one experiment\n",
    "variable. First, let's instantiate a *Design* that includes interface as a\n",
    "between-subjects variable:\n"
   ]
  },
  {
   "cell_type": "code",
   "execution_count": 4,
   "metadata": {},
   "outputs": [],
   "source": [
    "# a between subjects design\n",
    "design = (\n",
    "    Design()\n",
    "        .between_subjects(interface) # include interface as an argument \n",
    ")"
   ]
  },
  {
   "cell_type": "markdown",
   "metadata": {},
   "source": [
    "Between-subjects designs assign one condition to each *unit*. By default, the\n",
    "conditions are randomly assigned to units. Run the cell below and observe the output:"
   ]
  },
  {
   "cell_type": "code",
   "execution_count": 5,
   "metadata": {},
   "outputs": [
    {
     "name": "stdout",
     "output_type": "stream",
     "text": [
      "[[0]]\n",
      "1\n",
      "[[0]]\n",
      "1\n",
      "12\n",
      "***EXPERIMENT PLANS***\n",
      "\n",
      "plan 1:\n",
      "\ttrial 1: interface = baseline\n",
      "plan 2:\n",
      "\ttrial 1: interface = AR\n",
      "plan 3:\n",
      "\ttrial 1: interface = AR\n",
      "plan 4:\n",
      "\ttrial 1: interface = baseline\n",
      "plan 5:\n",
      "\ttrial 1: interface = baseline\n",
      "plan 6:\n",
      "\ttrial 1: interface = baseline\n",
      "plan 7:\n",
      "\ttrial 1: interface = baseline\n",
      "plan 8:\n",
      "\ttrial 1: interface = baseline\n",
      "plan 9:\n",
      "\ttrial 1: interface = AR\n",
      "plan 10:\n",
      "\ttrial 1: interface = baseline\n",
      "plan 11:\n",
      "\ttrial 1: interface = AR\n",
      "plan 12:\n",
      "\ttrial 1: interface = baseline\n",
      " \n",
      "\n",
      "***ASSIGNMENT***\n",
      "\n",
      "    pid  plan\n",
      "0     1     7\n",
      "1     2     3\n",
      "2     3     4\n",
      "3     4     2\n",
      "4     5    10\n",
      "5     6     0\n",
      "6     7    11\n",
      "7     8     6\n",
      "8     9     9\n",
      "9    10     1\n",
      "10   11     8\n",
      "11   12     5\n"
     ]
    }
   ],
   "source": [
    "# Our first assignment procedure\n",
    "print(assign(participants, design))"
   ]
  },
  {
   "cell_type": "markdown",
   "metadata": {},
   "source": [
    "## Step 3: Within-subjects Designs\n",
    "Now, we can explore more complicated designs. A variable is within-subjects in\n",
    "an experiment if a participant is assigned two or more of it's conditions. Let's\n",
    "construct a new design with interface as a within-subjects variable:"
   ]
  },
  {
   "cell_type": "code",
   "execution_count": 6,
   "metadata": {},
   "outputs": [],
   "source": [
    "interface_design = (\n",
    "    Design()\n",
    "        .within_subjects(interface) # include interface as argument\n",
    ")"
   ]
  },
  {
   "cell_type": "markdown",
   "metadata": {},
   "source": [
    "The following output shows the result of assigning conditions using a\n",
    "within-subjects design. Each unit is assigned all three conditions in a\n",
    "different order."
   ]
  },
  {
   "cell_type": "code",
   "execution_count": 7,
   "metadata": {},
   "outputs": [
    {
     "name": "stdout",
     "output_type": "stream",
     "text": [
      "[[0, 2, 1]]\n",
      "1\n",
      "[[0, 2, 1]]\n",
      "1\n",
      "12\n",
      "***EXPERIMENT PLANS***\n",
      "\n",
      "plan 1:\n",
      "\ttrial 1: interface = baseline\n",
      "\ttrial 2: interface = AR\n",
      "\ttrial 3: interface = VR\n",
      "plan 2:\n",
      "\ttrial 1: interface = AR\n",
      "\ttrial 2: interface = VR\n",
      "\ttrial 3: interface = baseline\n",
      "plan 3:\n",
      "\ttrial 1: interface = VR\n",
      "\ttrial 2: interface = baseline\n",
      "\ttrial 3: interface = AR\n",
      "plan 4:\n",
      "\ttrial 1: interface = AR\n",
      "\ttrial 2: interface = baseline\n",
      "\ttrial 3: interface = VR\n",
      "plan 5:\n",
      "\ttrial 1: interface = VR\n",
      "\ttrial 2: interface = baseline\n",
      "\ttrial 3: interface = AR\n",
      "plan 6:\n",
      "\ttrial 1: interface = VR\n",
      "\ttrial 2: interface = AR\n",
      "\ttrial 3: interface = baseline\n",
      "plan 7:\n",
      "\ttrial 1: interface = baseline\n",
      "\ttrial 2: interface = VR\n",
      "\ttrial 3: interface = AR\n",
      "plan 8:\n",
      "\ttrial 1: interface = baseline\n",
      "\ttrial 2: interface = AR\n",
      "\ttrial 3: interface = VR\n",
      "plan 9:\n",
      "\ttrial 1: interface = AR\n",
      "\ttrial 2: interface = baseline\n",
      "\ttrial 3: interface = VR\n",
      "plan 10:\n",
      "\ttrial 1: interface = AR\n",
      "\ttrial 2: interface = VR\n",
      "\ttrial 3: interface = baseline\n",
      "plan 11:\n",
      "\ttrial 1: interface = AR\n",
      "\ttrial 2: interface = baseline\n",
      "\ttrial 3: interface = VR\n",
      "plan 12:\n",
      "\ttrial 1: interface = VR\n",
      "\ttrial 2: interface = AR\n",
      "\ttrial 3: interface = baseline\n",
      " \n",
      "\n",
      "***ASSIGNMENT***\n",
      "\n",
      "    pid  plan\n",
      "0     1     0\n",
      "1     2     8\n",
      "2     3     4\n",
      "3     4     7\n",
      "4     5     3\n",
      "5     6     1\n",
      "6     7    11\n",
      "7     8     5\n",
      "8     9     9\n",
      "9    10    10\n",
      "10   11     6\n",
      "11   12     2\n"
     ]
    }
   ],
   "source": [
    "print(assign(participants, interface_design))"
   ]
  },
  {
   "cell_type": "markdown",
   "metadata": {},
   "source": [
    "Theoretically, there is a chance\n",
    "that we assign every unit the same order! Counterbalancing prevents this by\n",
    "enforcing that every condition appears in every position of an order an equal number of times:"
   ]
  },
  {
   "cell_type": "code",
   "execution_count": 8,
   "metadata": {},
   "outputs": [
    {
     "name": "stdout",
     "output_type": "stream",
     "text": [
      "interface\n"
     ]
    }
   ],
   "source": [
    "interface_design = (\n",
    "    interface_design\n",
    "        .counterbalance(interface) # include interface as an argument\n",
    ")"
   ]
  },
  {
   "cell_type": "code",
   "execution_count": 9,
   "metadata": {},
   "outputs": [
    {
     "name": "stdout",
     "output_type": "stream",
     "text": [
      "[[2, 0, 1], [2, 1, 0], [0, 1, 2], [0, 2, 1], [1, 2, 0], [1, 0, 2]]\n",
      "6\n",
      "12\n",
      "***EXPERIMENT PLANS***\n",
      "\n",
      "plan 1:\n",
      "\ttrial 1: interface = baseline\n",
      "\ttrial 2: interface = VR\n",
      "\ttrial 3: interface = AR\n",
      "plan 2:\n",
      "\ttrial 1: interface = AR\n",
      "\ttrial 2: interface = baseline\n",
      "\ttrial 3: interface = VR\n",
      "plan 3:\n",
      "\ttrial 1: interface = VR\n",
      "\ttrial 2: interface = AR\n",
      "\ttrial 3: interface = baseline\n",
      "plan 4:\n",
      "\ttrial 1: interface = VR\n",
      "\ttrial 2: interface = AR\n",
      "\ttrial 3: interface = baseline\n",
      "plan 5:\n",
      "\ttrial 1: interface = baseline\n",
      "\ttrial 2: interface = VR\n",
      "\ttrial 3: interface = AR\n",
      "plan 6:\n",
      "\ttrial 1: interface = AR\n",
      "\ttrial 2: interface = baseline\n",
      "\ttrial 3: interface = VR\n",
      "plan 7:\n",
      "\ttrial 1: interface = baseline\n",
      "\ttrial 2: interface = AR\n",
      "\ttrial 3: interface = VR\n",
      "plan 8:\n",
      "\ttrial 1: interface = VR\n",
      "\ttrial 2: interface = AR\n",
      "\ttrial 3: interface = baseline\n",
      "plan 9:\n",
      "\ttrial 1: interface = baseline\n",
      "\ttrial 2: interface = AR\n",
      "\ttrial 3: interface = VR\n",
      "plan 10:\n",
      "\ttrial 1: interface = AR\n",
      "\ttrial 2: interface = VR\n",
      "\ttrial 3: interface = baseline\n",
      "plan 11:\n",
      "\ttrial 1: interface = baseline\n",
      "\ttrial 2: interface = AR\n",
      "\ttrial 3: interface = VR\n",
      "plan 12:\n",
      "\ttrial 1: interface = VR\n",
      "\ttrial 2: interface = AR\n",
      "\ttrial 3: interface = baseline\n",
      " \n",
      "\n",
      "***ASSIGNMENT***\n",
      "\n",
      "    pid  plan\n",
      "0     1     9\n",
      "1     2     8\n",
      "2     3     5\n",
      "3     4     1\n",
      "4     5    11\n",
      "5     6     7\n",
      "6     7     0\n",
      "7     8     6\n",
      "8     9     3\n",
      "9    10    10\n",
      "10   11     4\n",
      "11   12     2\n"
     ]
    }
   ],
   "source": [
    "print(assign(participants, interface_design))"
   ]
  },
  {
   "cell_type": "markdown",
   "metadata": {},
   "source": [
    "PLanet first constructs all viable plans, and then maps each plan the\n",
    "experimental unit. "
   ]
  },
  {
   "cell_type": "markdown",
   "metadata": {},
   "source": [
    "By default, the design assigns every condition to each unit. We can define a\n",
    "design where we assign two conditions to each unit and there are three\n",
    "conditions: "
   ]
  },
  {
   "cell_type": "code",
   "execution_count": 10,
   "metadata": {},
   "outputs": [
    {
     "name": "stdout",
     "output_type": "stream",
     "text": [
      "[[0, 1], [1, 2], [1, 0], [2, 1], [0, 2], [2, 0]]\n",
      "6\n",
      "12\n",
      "***EXPERIMENT PLANS***\n",
      "\n",
      "plan 1:\n",
      "\ttrial 1: interface = VR\n",
      "\ttrial 2: interface = baseline\n",
      "plan 2:\n",
      "\ttrial 1: interface = AR\n",
      "\ttrial 2: interface = baseline\n",
      "plan 3:\n",
      "\ttrial 1: interface = baseline\n",
      "\ttrial 2: interface = AR\n",
      "plan 4:\n",
      "\ttrial 1: interface = AR\n",
      "\ttrial 2: interface = baseline\n",
      "plan 5:\n",
      "\ttrial 1: interface = VR\n",
      "\ttrial 2: interface = AR\n",
      "plan 6:\n",
      "\ttrial 1: interface = AR\n",
      "\ttrial 2: interface = VR\n",
      "plan 7:\n",
      "\ttrial 1: interface = baseline\n",
      "\ttrial 2: interface = AR\n",
      "plan 8:\n",
      "\ttrial 1: interface = AR\n",
      "\ttrial 2: interface = VR\n",
      "plan 9:\n",
      "\ttrial 1: interface = VR\n",
      "\ttrial 2: interface = baseline\n",
      "plan 10:\n",
      "\ttrial 1: interface = AR\n",
      "\ttrial 2: interface = VR\n",
      "plan 11:\n",
      "\ttrial 1: interface = baseline\n",
      "\ttrial 2: interface = VR\n",
      "plan 12:\n",
      "\ttrial 1: interface = AR\n",
      "\ttrial 2: interface = VR\n",
      " \n",
      "\n",
      "***ASSIGNMENT***\n",
      "\n",
      "    pid  plan\n",
      "0     1    11\n",
      "1     2     5\n",
      "2     3     1\n",
      "3     4     9\n",
      "4     5    10\n",
      "5     6     6\n",
      "6     7     7\n",
      "7     8     2\n",
      "8     9     3\n",
      "9    10     0\n",
      "10   11     8\n",
      "11   12     4\n"
     ]
    }
   ],
   "source": [
    "interface_design = (\n",
    "    interface_design\n",
    "          .num_trials(2)\n",
    ")\n",
    "\n",
    "print(assign(participants, interface_design))\n"
   ]
  },
  {
   "cell_type": "markdown",
   "metadata": {},
   "source": [
    "## Step 4: Latin square Designs\n",
    "This introduces a new operation that allows you to construct Latin\n",
    "squares. Latin squares are a particular type of counterbalanced design, where\n",
    "every condition appears in every position of an order once. So, for\n",
    "counterbalanced designs with three conditions, there are only three possible\n",
    "orders. We will start with a regular counterbalanced design: "
   ]
  },
  {
   "cell_type": "code",
   "execution_count": 11,
   "metadata": {},
   "outputs": [
    {
     "name": "stdout",
     "output_type": "stream",
     "text": [
      "task\n"
     ]
    }
   ],
   "source": [
    "task = ExperimentVariable(\n",
    "    name = \"task\",\n",
    "    options=[\"run\", \"walk\", \"sprint\"]\n",
    ")\n",
    "\n",
    "task_design = (\n",
    "    Design()\n",
    "    .within_subjects(task)\n",
    "    .counterbalance(task, )\n",
    ")\n"
   ]
  },
  {
   "cell_type": "markdown",
   "metadata": {},
   "source": [
    "This defines fully-counterbalanced design. Fully-counterbalanced designs are\n",
    "counterbalanced designs with the *maximum* number of plans, resulting in all\n",
    "possible permutations. Latin sqaures are counterbalanced designs with the\n",
    "*minimum* number of rows. Each condition should appear once in every position of\n",
    "an order.\n",
    "The number of orders is the same as the number of conditons. We can constrain the design using the\n",
    "*limit_plans* operation to create a Latin square:"
   ]
  },
  {
   "cell_type": "code",
   "execution_count": 12,
   "metadata": {},
   "outputs": [],
   "source": [
    "task_design = (\n",
    "    task_design\n",
    "    .limit_groups(len(task))\n",
    ")"
   ]
  },
  {
   "cell_type": "markdown",
   "metadata": {},
   "source": [
    "When we run the assignment procedure, PLanet constructs three plans, ensuring\n",
    "that the task conditions are counterbalanced:"
   ]
  },
  {
   "cell_type": "code",
   "execution_count": 13,
   "metadata": {},
   "outputs": [
    {
     "name": "stdout",
     "output_type": "stream",
     "text": [
      "[[2, 1, 0], [1, 0, 2], [0, 2, 1]]\n",
      "***EXPERIMENT PLANS***\n",
      "\n",
      "plan 1:\n",
      "\ttrial 1: task = sprint\n",
      "\ttrial 2: task = walk\n",
      "\ttrial 3: task = run\n",
      "plan 2:\n",
      "\ttrial 1: task = walk\n",
      "\ttrial 2: task = run\n",
      "\ttrial 3: task = sprint\n",
      "plan 3:\n",
      "\ttrial 1: task = run\n",
      "\ttrial 2: task = sprint\n",
      "\ttrial 3: task = walk\n",
      " \n",
      "\n",
      "***ASSIGNMENT***\n",
      "\n",
      "    pid  plan\n",
      "0     1     0\n",
      "1     2     2\n",
      "2     3     1\n",
      "3     4     2\n",
      "4     5     1\n",
      "5     6     0\n",
      "6     7     1\n",
      "7     8     1\n",
      "8     9     0\n",
      "9    10     2\n",
      "10   11     0\n",
      "11   12     2\n"
     ]
    }
   ],
   "source": [
    "print(assign(participants, task_design))"
   ]
  },
  {
   "cell_type": "markdown",
   "metadata": {},
   "source": [
    "## Step 5: Composing Designs\n",
    "Great! We created two designs that specify assignment procedures for different\n",
    "variable. We can also compose these procedures into one design using *nest* and\n",
    "*cross* "
   ]
  },
  {
   "cell_type": "markdown",
   "metadata": {},
   "source": [
    "### Nesting\n",
    "Nest creates a new design based on the constraints of two subdesigns (i.e.,\n",
    "$task\\_design$ and $interface\\_design$). The possible plans specified by the\n",
    "*inner* design are nested within each trial of the *outer* design. \n",
    "\n",
    "\n",
    "![Nesting](nest.png)"
   ]
  },
  {
   "cell_type": "code",
   "execution_count": 14,
   "metadata": {},
   "outputs": [
    {
     "name": "stdout",
     "output_type": "stream",
     "text": [
      "2\n"
     ]
    }
   ],
   "source": [
    "design = nest(inner=interface_design, outer=task_design)"
   ]
  },
  {
   "cell_type": "markdown",
   "metadata": {},
   "source": [
    "Let's examine the possible plans:"
   ]
  },
  {
   "cell_type": "code",
   "execution_count": 15,
   "metadata": {},
   "outputs": [
    {
     "name": "stdout",
     "output_type": "stream",
     "text": [
      "[[18, 17, 10, 9, 2, 1], [2, 1, 18, 17, 10, 9], [10, 9, 2, 1, 18, 17]]\n",
      "3\n",
      "12\n",
      "***EXPERIMENT PLANS***\n",
      "\n",
      "plan 1:\n",
      "\ttrial 1: interface = VR, task = sprint\n",
      "\ttrial 2: interface = baseline, task = sprint\n",
      "\ttrial 3: interface = AR, task = walk\n",
      "\ttrial 4: interface = VR, task = walk\n",
      "\ttrial 5: interface = VR, task = run\n",
      "\ttrial 6: interface = baseline, task = run\n",
      "plan 2:\n",
      "\ttrial 1: interface = AR, task = sprint\n",
      "\ttrial 2: interface = VR, task = sprint\n",
      "\ttrial 3: interface = VR, task = walk\n",
      "\ttrial 4: interface = baseline, task = walk\n",
      "\ttrial 5: interface = VR, task = run\n",
      "\ttrial 6: interface = AR, task = run\n",
      "plan 3:\n",
      "\ttrial 1: interface = VR, task = sprint\n",
      "\ttrial 2: interface = baseline, task = sprint\n",
      "\ttrial 3: interface = VR, task = walk\n",
      "\ttrial 4: interface = AR, task = walk\n",
      "\ttrial 5: interface = AR, task = run\n",
      "\ttrial 6: interface = VR, task = run\n",
      "plan 4:\n",
      "\ttrial 1: interface = VR, task = sprint\n",
      "\ttrial 2: interface = AR, task = sprint\n",
      "\ttrial 3: interface = AR, task = walk\n",
      "\ttrial 4: interface = VR, task = walk\n",
      "\ttrial 5: interface = baseline, task = run\n",
      "\ttrial 6: interface = VR, task = run\n",
      "plan 5:\n",
      "\ttrial 1: interface = AR, task = run\n",
      "\ttrial 2: interface = VR, task = run\n",
      "\ttrial 3: interface = baseline, task = sprint\n",
      "\ttrial 4: interface = VR, task = sprint\n",
      "\ttrial 5: interface = VR, task = walk\n",
      "\ttrial 6: interface = AR, task = walk\n",
      "plan 6:\n",
      "\ttrial 1: interface = baseline, task = run\n",
      "\ttrial 2: interface = VR, task = run\n",
      "\ttrial 3: interface = VR, task = sprint\n",
      "\ttrial 4: interface = AR, task = sprint\n",
      "\ttrial 5: interface = VR, task = walk\n",
      "\ttrial 6: interface = AR, task = walk\n",
      "plan 7:\n",
      "\ttrial 1: interface = VR, task = run\n",
      "\ttrial 2: interface = AR, task = run\n",
      "\ttrial 3: interface = VR, task = sprint\n",
      "\ttrial 4: interface = AR, task = sprint\n",
      "\ttrial 5: interface = baseline, task = walk\n",
      "\ttrial 6: interface = VR, task = walk\n",
      "plan 8:\n",
      "\ttrial 1: interface = VR, task = run\n",
      "\ttrial 2: interface = AR, task = run\n",
      "\ttrial 3: interface = baseline, task = sprint\n",
      "\ttrial 4: interface = VR, task = sprint\n",
      "\ttrial 5: interface = AR, task = walk\n",
      "\ttrial 6: interface = VR, task = walk\n",
      "plan 9:\n",
      "\ttrial 1: interface = baseline, task = walk\n",
      "\ttrial 2: interface = VR, task = walk\n",
      "\ttrial 3: interface = AR, task = run\n",
      "\ttrial 4: interface = VR, task = run\n",
      "\ttrial 5: interface = AR, task = sprint\n",
      "\ttrial 6: interface = VR, task = sprint\n",
      "plan 10:\n",
      "\ttrial 1: interface = AR, task = walk\n",
      "\ttrial 2: interface = VR, task = walk\n",
      "\ttrial 3: interface = AR, task = run\n",
      "\ttrial 4: interface = VR, task = run\n",
      "\ttrial 5: interface = AR, task = sprint\n",
      "\ttrial 6: interface = baseline, task = sprint\n",
      "plan 11:\n",
      "\ttrial 1: interface = AR, task = walk\n",
      "\ttrial 2: interface = VR, task = walk\n",
      "\ttrial 3: interface = AR, task = run\n",
      "\ttrial 4: interface = baseline, task = run\n",
      "\ttrial 5: interface = baseline, task = sprint\n",
      "\ttrial 6: interface = VR, task = sprint\n",
      "plan 12:\n",
      "\ttrial 1: interface = AR, task = walk\n",
      "\ttrial 2: interface = baseline, task = walk\n",
      "\ttrial 3: interface = baseline, task = run\n",
      "\ttrial 4: interface = VR, task = run\n",
      "\ttrial 5: interface = AR, task = sprint\n",
      "\ttrial 6: interface = baseline, task = sprint\n",
      " \n",
      "\n",
      "***ASSIGNMENT***\n",
      "\n",
      "    pid  plan\n",
      "0     1     7\n",
      "1     2     3\n",
      "2     3     9\n",
      "3     4     0\n",
      "4     5     5\n",
      "5     6    10\n",
      "6     7     8\n",
      "7     8     6\n",
      "8     9     1\n",
      "9    10     4\n",
      "10   11     2\n",
      "11   12    11\n"
     ]
    }
   ],
   "source": [
    "print(assign(participants, design))"
   ]
  },
  {
   "cell_type": "markdown",
   "metadata": {},
   "source": [
    "### Cross\n",
    "Cross creates a new design based on the constraints of two subdesigns (i.e.,\n",
    "$task\\_design$ and $interface\\_design$). The composed design overlays every plan\n",
    "from the first design with every plan of the second design. Each subdesign must\n",
    "have the same number of trials. \n",
    "\n",
    "![Cross](cross.png)"
   ]
  },
  {
   "cell_type": "code",
   "execution_count": null,
   "metadata": {},
   "outputs": [
    {
     "ename": "AssertionError",
     "evalue": "",
     "output_type": "error",
     "traceback": [
      "\u001b[31m---------------------------------------------------------------------------\u001b[39m",
      "\u001b[31mAssertionError\u001b[39m                            Traceback (most recent call last)",
      "\u001b[36mCell\u001b[39m\u001b[36m \u001b[39m\u001b[32mIn[18]\u001b[39m\u001b[32m, line 1\u001b[39m\n\u001b[32m----> \u001b[39m\u001b[32m1\u001b[39m design = \u001b[43mcross\u001b[49m\u001b[43m(\u001b[49m\u001b[43minterface_design\u001b[49m\u001b[43m,\u001b[49m\u001b[43m \u001b[49m\u001b[43mtask_design\u001b[49m\u001b[43m)\u001b[49m\n\u001b[32m      2\u001b[39m \u001b[38;5;28mprint\u001b[39m(assign(participants, design))\n",
      "\u001b[36mFile \u001b[39m\u001b[32m~/Documents/projects/ucla/PLanet-tutorial/venv/lib/python3.11/site-packages/planet/nest.py:292\u001b[39m, in \u001b[36mcross\u001b[39m\u001b[34m(design1, design2)\u001b[39m\n\u001b[32m    289\u001b[39m width1 = design1.get_width()\n\u001b[32m    290\u001b[39m width2 = design2.get_width()\n\u001b[32m--> \u001b[39m\u001b[32m292\u001b[39m \u001b[38;5;28;01massert\u001b[39;00m width1 == width2\n\u001b[32m    293\u001b[39m total_conditions = width2 \n\u001b[32m    296\u001b[39m \u001b[38;5;66;03m# Create a new design with the combined variables\u001b[39;00m\n",
      "\u001b[31mAssertionError\u001b[39m: "
     ]
    }
   ],
   "source": [
    "task = ExperimentVariable(\n",
    "    name = \"task\",\n",
    "    options=[\"run\", \"walk\", \"sprint\"]\n",
    ")\n",
    "\n",
    "task_design = (\n",
    "    Design()\n",
    "    .within_subjects(task)\n",
    "    .counterbalance(task, )\n",
    ")\n",
    "\n",
    "interface_design = (\n",
    "    Design()\n",
    "    .within_subjects(task)\n",
    "    .counterbalance(task, )\n",
    ")\n",
    "\n",
    "design = cross(interface_design, task_design)\n",
    "print(assign(participants, design))"
   ]
  },
  {
   "cell_type": "markdown",
   "metadata": {},
   "source": [
    "## Step 6: Replication\n",
    "Sometimes, we want to assign the same experimental condition multiple times. We can replicate\n",
    "conditions by nesting a non-empty design with an *empty* design. Empty designs\n",
    "assign arbitrary conditions to users. To define an empty design, we do not\n",
    "include any variables in the experiment. The number of trials will indicate the\n",
    "number of replications after nesting the empty design. "
   ]
  },
  {
   "cell_type": "code",
   "execution_count": null,
   "metadata": {},
   "outputs": [],
   "source": [
    "block = (\n",
    "    Design()\n",
    "    .num_trials(2)\n",
    ")\n",
    "\n",
    "# NOTE: task_design is the latin sqaure we defined in Step 3. \n",
    "design = nest(inner=block, outer=task_design)\n",
    "print(assign(participants, design))"
   ]
  },
  {
   "cell_type": "markdown",
   "metadata": {},
   "source": [
    "This repeats each condition in-a-row ([a, b] -> [a, a, b, b]).\n",
    "Alternatively, we could repeat the orders ([a, b] -> [a, b, a, b])"
   ]
  },
  {
   "cell_type": "code",
   "execution_count": null,
   "metadata": {},
   "outputs": [],
   "source": [
    "block = (\n",
    "    Design()\n",
    "    .num_trials(2)\n",
    ")\n",
    "\n",
    "design = nest(inner=task_design, outer=block)\n",
    "print(assign(participants, design))"
   ]
  },
  {
   "cell_type": "markdown",
   "metadata": {},
   "source": [
    "## Step 6: $set\\_rank$\n",
    "Lastly, we invite you to explore the $set\\_rank$ operation. *Ranks* determine the order\n",
    "presedence of variable conditons. The default rank is 0 for all conditions of a\n",
    "variable. Higher-ranked conditions come before all lower-ranked conditions in\n",
    "within-subjects designs. For example, if we set the rank of baseline to 1, baseline\n",
    "always\n",
    "comes first. Run the code and observe the output: "
   ]
  },
  {
   "cell_type": "code",
   "execution_count": null,
   "metadata": {},
   "outputs": [],
   "source": [
    "task = ExperimentVariable(\n",
    "    name = \"task\",\n",
    "    options=[\"run\", \"walk\", \"sprint\"]\n",
    ")\n",
    "\n",
    "participants = Units(4)\n",
    "\n",
    "task_design = (\n",
    "    Design()\n",
    "    .within_subjects(task)\n",
    "    .absolute_rank(task, \"run\", 1)\n",
    ")\n",
    "\n",
    "print(assign(participants, task_design))"
   ]
  },
  {
   "cell_type": "markdown",
   "metadata": {},
   "source": [
    "Notice that walk and sprint can appear in any order, as long as they both come run. "
   ]
  },
  {
   "cell_type": "markdown",
   "metadata": {},
   "source": [
    "# Step 7: multifactfactorial designs\n",
    "Multifactorial designs are expeirmental designs with more than one variable.\n",
    "Step 5 systematically composed designs using *nest* and *cross*. We can also\n",
    "define multifactorial variables by adding multiple variables to a design. We can\n",
    "do this using multiple $within\\_subjects$ and $between\\_subjects$ expressions, or\n",
    "with the $multifact$ operation.\n",
    "\n",
    "### multifact \n",
    "multifact creates a new variable. The conditions of this variable are determined\n",
    "by taking the cartesian product of the conditions of a set of variables. For\n",
    "example, multifact([task, interface]) results in a new variable with the\n",
    "following conditions: VR-run VR-walk, VR-sprint, AR-run AR-walk, AR-sprint,\n",
    "baseline-run baseline-walk, baseline-sprint. "
   ]
  },
  {
   "cell_type": "code",
   "execution_count": null,
   "metadata": {},
   "outputs": [],
   "source": [
    "treatment = ExperimentVariable(\n",
    "    name = \"treatment\",\n",
    "    options = [\"a\", \"b\", \"c\"]\n",
    ")\n",
    "\n",
    "task = ExperimentVariable(\n",
    "    name = \"task\",\n",
    "    options = [\"1\", \"2\", \"3\"]\n",
    ")\n",
    "\n",
    "\n",
    "des = (\n",
    "    Design()\n",
    "        .within_subjects(multifact([treatment, task]))\n",
    "        .counterbalance(multifact([treatment, task]))\n",
    "        .limit_groups(9)\n",
    ")\n",
    "\n",
    "units = Units(12)\n",
    "\n",
    "print(assign(units, des))"
   ]
  },
  {
   "cell_type": "markdown",
   "metadata": {},
   "source": [
    "We can also add variables to a design and counterbalance them independently "
   ]
  },
  {
   "cell_type": "code",
   "execution_count": null,
   "metadata": {},
   "outputs": [],
   "source": [
    "task_design = (\n",
    "    Design()\n",
    "    .within_subjects(task)\n",
    "    .within_subjects(interface)\n",
    "    .counterbalance(task)\n",
    "    .num_trials(2)\n",
    "    .counterbalance(interface)\n",
    ")\n",
    "print(assign(participants, task_design))"
   ]
  },
  {
   "cell_type": "markdown",
   "metadata": {},
   "source": [
    "## Conclusion\n",
    "Congrats! You're done with the tutorial. Now that you're familiar with PLanet's core features, try authoring your own experimental design from scratch using the starter code! Don't worry if you didn't remember everything.\n",
    "You can always reference the tutorial again, and we invite you to reference the\n",
    "documentation for further information. "
   ]
  }
 ],
 "metadata": {
  "kernelspec": {
   "display_name": "venv",
   "language": "python",
   "name": "python3"
  },
  "language_info": {
   "codemirror_mode": {
    "name": "ipython",
    "version": 3
   },
   "file_extension": ".py",
   "mimetype": "text/x-python",
   "name": "python",
   "nbconvert_exporter": "python",
   "pygments_lexer": "ipython3",
   "version": "3.11.0"
  }
 },
 "nbformat": 4,
 "nbformat_minor": 2
}
