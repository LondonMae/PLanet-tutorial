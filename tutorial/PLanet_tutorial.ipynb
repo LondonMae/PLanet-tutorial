{
 "cells": [
  {
   "cell_type": "markdown",
   "metadata": {},
   "source": [
    "# PLanet tutorial \n",
    "Welcome! This is a tutorial for PLanet. We will walk through examples defining\n",
    "experimental designs as a program. You will learn some of Planet's operations\n",
    "and observe the output of PLanet programs. Let's begin!\n"
   ]
  },
  {
   "cell_type": "code",
   "execution_count": null,
   "metadata": {},
   "outputs": [],
   "source": [
    "# First, import the PLanet library\n",
    "from planet import *"
   ]
  },
  {
   "cell_type": "markdown",
   "metadata": {},
   "source": [
    "## Step 1: Defining Experiment Variables\n",
    "Before constructing a design, we need to know which to include in the experiment. $ExperimentVariables$ in PLanet represent independent and control\n",
    "variables. In the following example, Interface is the name of the variable, and there\n",
    "are three interface conditions (options): baseline, VR, and AR."
   ]
  },
  {
   "cell_type": "code",
   "execution_count": null,
   "metadata": {},
   "outputs": [],
   "source": [
    "\n",
    "interface = ExperimentVariable(\"interface\", options=[\"baseline\", \"VR\", \"AR\"])"
   ]
  },
  {
   "cell_type": "markdown",
   "metadata": {},
   "source": [
    "We also need to identify the experimental units in the study. Often,\n",
    "experimental units are participants. We will assign variable conditions to these\n",
    "units. Let's sample 12 participants:"
   ]
  },
  {
   "cell_type": "code",
   "execution_count": null,
   "metadata": {},
   "outputs": [],
   "source": [
    "# Replace n with the number of units in our study (12)\n",
    "participants = Units(12)"
   ]
  },
  {
   "cell_type": "markdown",
   "metadata": {},
   "source": [
    "## Step 2: Creating a Design\n",
    "Now that we've defined our experiment variables, we can start constructing a design. The most\n",
    "basic design in PLanet is a between-subjects design with one experiment\n",
    "variable. First, let's instantiate a *Design* that includes interface as a\n",
    "between-subjects variable:\n"
   ]
  },
  {
   "cell_type": "code",
   "execution_count": null,
   "metadata": {},
   "outputs": [],
   "source": [
    "# a between subjects design\n",
    "design = (\n",
    "    Design()\n",
    "        .between_subjects(interface) # include interface as an argument \n",
    ")"
   ]
  },
  {
   "cell_type": "markdown",
   "metadata": {},
   "source": [
    "Between-subjects designs assign one condition to each *unit*. By default, the\n",
    "conditions are randomly assigned to units. Run the cell below and observe the output:"
   ]
  },
  {
   "cell_type": "code",
   "execution_count": null,
   "metadata": {},
   "outputs": [],
   "source": [
    "# Our first assignment procedure\n",
    "print(assign(participants, design))"
   ]
  },
  {
   "cell_type": "markdown",
   "metadata": {},
   "source": [
    "## Step 3: Within-subjects Designs\n",
    "Now, we can explore more complicated designs. A variable is within-subjects in\n",
    "an experiment if a participant is assigned two or more of it's conditions. Let's\n",
    "construct a new design with interface as a within-subjects variable:"
   ]
  },
  {
   "cell_type": "code",
   "execution_count": null,
   "metadata": {},
   "outputs": [],
   "source": [
    "interface_design = (\n",
    "    Design()\n",
    "        .within_subjects(interface) # include interface as argument\n",
    ")"
   ]
  },
  {
   "cell_type": "markdown",
   "metadata": {},
   "source": [
    "The following output shows the result of assigning conditions using a\n",
    "within-subjects design. Each unit is assigned all three conditions in a\n",
    "different order."
   ]
  },
  {
   "cell_type": "code",
   "execution_count": null,
   "metadata": {},
   "outputs": [],
   "source": [
    "print(assign(participants, interface_design))"
   ]
  },
  {
   "cell_type": "markdown",
   "metadata": {},
   "source": [
    "Theoretically, there is a chance\n",
    "that we assign every unit the same order! Counterbalancing prevents this by\n",
    "enforcing that every condition appears in every position of an order an equal number of times:"
   ]
  },
  {
   "cell_type": "code",
   "execution_count": null,
   "metadata": {},
   "outputs": [],
   "source": [
    "interface_design = (\n",
    "    interface_design\n",
    "        .counterbalance(interface) # include interface as an argument\n",
    ")"
   ]
  },
  {
   "cell_type": "code",
   "execution_count": null,
   "metadata": {},
   "outputs": [],
   "source": [
    "print(assign(participants, interface_design))"
   ]
  },
  {
   "cell_type": "markdown",
   "metadata": {},
   "source": [
    "PLanet first constructs all viable plans, and then maps each plan the\n",
    "experimental unit. "
   ]
  },
  {
   "cell_type": "markdown",
   "metadata": {},
   "source": [
    "By default, the design assigns every condition to each unit. We can define a\n",
    "design where we assign two conditions to each unit and there are three\n",
    "conditions: "
   ]
  },
  {
   "cell_type": "code",
   "execution_count": null,
   "metadata": {},
   "outputs": [],
   "source": [
    "interface_design = (\n",
    "    interface_design\n",
    "          .num_trials(2)\n",
    ")\n",
    "\n",
    "print(assign(participants, interface_design))\n"
   ]
  },
  {
   "cell_type": "markdown",
   "metadata": {},
   "source": [
    "## Step 4: Latin square Designs\n",
    "This introduces a new operation that allows you to construct Latin\n",
    "squares. Latin squares are a particular type of counterbalanced design, where\n",
    "every condition appears in every position of an order once. So, for\n",
    "counterbalanced designs with three conditions, there are only three possible\n",
    "orders. We will start with a regular counterbalanced design: "
   ]
  },
  {
   "cell_type": "code",
   "execution_count": null,
   "metadata": {},
   "outputs": [],
   "source": [
    "task = ExperimentVariable(\n",
    "    name = \"task\",\n",
    "    options=[\"run\", \"walk\", \"sprint\"]\n",
    ")\n",
    "\n",
    "task_design = (\n",
    "    Design()\n",
    "    .within_subjects(task)\n",
    "    .counterbalance(task, )\n",
    ")\n"
   ]
  },
  {
   "cell_type": "markdown",
   "metadata": {},
   "source": [
    "This defines fully-counterbalanced design. Fully-counterbalanced designs are\n",
    "counterbalanced designs with the *maximum* number of plans, resulting in all\n",
    "possible permutations. Latin sqaures are counterbalanced designs with the\n",
    "*minimum* number of rows. Each condition should appear once in every position of\n",
    "an order.\n",
    "The number of orders is the same as the number of conditons. We can constrain the design using the\n",
    "*limit_plans* operation to create a Latin square:"
   ]
  },
  {
   "cell_type": "code",
   "execution_count": null,
   "metadata": {},
   "outputs": [],
   "source": [
    "task_design = (\n",
    "    task_design\n",
    "    .limit_groups(len(task))\n",
    ")"
   ]
  },
  {
   "cell_type": "markdown",
   "metadata": {},
   "source": [
    "When we run the assignment procedure, PLanet constructs three plans, ensuring\n",
    "that the task conditions are counterbalanced:"
   ]
  },
  {
   "cell_type": "code",
   "execution_count": null,
   "metadata": {},
   "outputs": [],
   "source": [
    "print(assign(participants, task_design))"
   ]
  },
  {
   "cell_type": "markdown",
   "metadata": {},
   "source": [
    "## Step 5: Composing Designs\n",
    "Great! We created two designs that specify assignment procedures for different\n",
    "variable. We can also compose these procedures into one design using *nest* and\n",
    "*cross* "
   ]
  },
  {
   "cell_type": "markdown",
   "metadata": {},
   "source": [
    "### Nesting\n",
    "Nest creates a new design based on the constraints of two subdesigns (i.e.,\n",
    "$task\\_design$ and $interface\\_design$). The possible plans specified by the\n",
    "*inner* design are nested within each trial of the *outer* design. \n",
    "\n",
    "\n",
    "![Nesting](nest.png)"
   ]
  },
  {
   "cell_type": "code",
   "execution_count": null,
   "metadata": {},
   "outputs": [],
   "source": [
    "design = nest(inner=interface_design, outer=task_design)"
   ]
  },
  {
   "cell_type": "markdown",
   "metadata": {},
   "source": [
    "Let's examine the possible plans:"
   ]
  },
  {
   "cell_type": "code",
   "execution_count": null,
   "metadata": {},
   "outputs": [],
   "source": [
    "print(assign(participants, design))"
   ]
  },
  {
   "cell_type": "markdown",
   "metadata": {},
   "source": [
    "### Cross\n",
    "Cross creates a new design based on the constraints of two subdesigns (i.e.,\n",
    "$task\\_design$ and $interface\\_design$). The composed design overlays every plan\n",
    "from the first design with every plan of the second design. Each subdesign must\n",
    "have the same number of trials. \n",
    "\n",
    "![Cross](cross.png)"
   ]
  },
  {
   "cell_type": "markdown",
   "metadata": {},
   "source": [
    "## Step 6: Replication\n",
    "Sometimes, we want to assign the same experimental condition multiple times. We can replicate\n",
    "conditions by nesting a non-empty design with an *empty* design. Empty designs\n",
    "assign arbitrary conditions to users. To define an empty design, we do not\n",
    "include any variables in the experiment. The number of trials will indicate the\n",
    "number of replications after nesting the empty design. "
   ]
  },
  {
   "cell_type": "code",
   "execution_count": null,
   "metadata": {},
   "outputs": [],
   "source": [
    "block = (\n",
    "    Design()\n",
    "    .num_trials(2)\n",
    ")\n",
    "\n",
    "# NOTE: task_design is the latin sqaure we defined in Step 3. \n",
    "design = nest(inner=block, outer=task_design)\n",
    "print(assign(participants, design))"
   ]
  },
  {
   "cell_type": "markdown",
   "metadata": {},
   "source": [
    "This repeats each condition in-a-row ([a, b] -> [a, a, b, b]).\n",
    "Alternatively, we could repeat the orders ([a, b] -> [a, b, a, b])"
   ]
  },
  {
   "cell_type": "code",
   "execution_count": null,
   "metadata": {},
   "outputs": [],
   "source": [
    "block = (\n",
    "    Design()\n",
    "    .num_trials(2)\n",
    ")\n",
    "\n",
    "design = nest(inner=task_design, outer=block)\n",
    "print(assign(participants, design))"
   ]
  },
  {
   "cell_type": "markdown",
   "metadata": {},
   "source": [
    "## Step 6: $set\\_rank$\n",
    "Lastly, we invite you to explore the $set\\_rank$ operation. *Ranks* determine the order\n",
    "presedence of variable conditons. The default rank is 0 for all conditions of a\n",
    "variable. Higher-ranked conditions come before all lower-ranked conditions in\n",
    "within-subjects designs. For example, if we set the rank of baseline to 1, baseline\n",
    "always\n",
    "comes first. Run the code and observe the output: "
   ]
  },
  {
   "cell_type": "code",
   "execution_count": null,
   "metadata": {},
   "outputs": [],
   "source": [
    "task = ExperimentVariable(\n",
    "    name = \"task\",\n",
    "    options=[\"run\", \"walk\", \"sprint\"]\n",
    ")\n",
    "\n",
    "participants = Units(4)\n",
    "\n",
    "task_design = (\n",
    "    Design()\n",
    "    .within_subjects(task)\n",
    "    .absolute_rank(task, \"run\", 1)\n",
    ")\n",
    "\n",
    "print(assign(participants, task_design))"
   ]
  },
  {
   "cell_type": "markdown",
   "metadata": {},
   "source": [
    "Notice that walk and sprint can appear in any order, as long as they both come run. "
   ]
  },
  {
   "cell_type": "markdown",
   "metadata": {},
   "source": [
    "# Step 7: multifactfactorial designs\n",
    "Multifactorial designs are expeirmental designs with more than one variable.\n",
    "Step 5 systematically composed designs using *nest* and *cross*. We can also\n",
    "define multifactorial variables by adding multiple variables to a design. We can\n",
    "do this using multiple $within\\_subjects$ and $between\\_subjects$ expressions, or\n",
    "with the $multifact$ operation.\n",
    "\n",
    "### multifact \n",
    "multifact creates a new variable. The conditions of this variable are determined\n",
    "by taking the cartesian product of the conditions of a set of variables. For\n",
    "example, multifact([task, interface]) results in a new variable with the\n",
    "following conditions: VR-run VR-walk, VR-sprint, AR-run AR-walk, AR-sprint,\n",
    "baseline-run baseline-walk, baseline-sprint. "
   ]
  },
  {
   "cell_type": "code",
   "execution_count": null,
   "metadata": {},
   "outputs": [],
   "source": [
    "treatment = ExperimentVariable(\n",
    "    name = \"treatment\",\n",
    "    options = [\"a\", \"b\", \"c\"]\n",
    ")\n",
    "\n",
    "task = ExperimentVariable(\n",
    "    name = \"task\",\n",
    "    options = [\"1\", \"2\", \"3\"]\n",
    ")\n",
    "\n",
    "\n",
    "des = (\n",
    "    Design()\n",
    "        .within_subjects(multifact([treatment, task]))\n",
    "        .counterbalance(multifact([treatment, task]))\n",
    "        .limit_groups(9)\n",
    ")\n",
    "\n",
    "units = Units(12)\n",
    "\n",
    "print(assign(units, des))"
   ]
  },
  {
   "cell_type": "markdown",
   "metadata": {},
   "source": [
    "We can also add variables to a design and counterbalance them independently "
   ]
  },
  {
   "cell_type": "code",
   "execution_count": null,
   "metadata": {},
   "outputs": [],
   "source": [
    "task_design = (\n",
    "    Design()\n",
    "    .within_subjects(task)\n",
    "    .within_subjects(interface)\n",
    "    .counterbalance(task)\n",
    "    .num_trials(2)\n",
    "    .counterbalance(interface)\n",
    ")\n",
    "print(assign(participants, task_design))"
   ]
  },
  {
   "cell_type": "markdown",
   "metadata": {},
   "source": [
    "## Conclusion\n",
    "Congrats! You're done with the tutorial. Now that you're familiar with PLanet's core features, try authoring your own experimental design from scratch using the starter code! Don't worry if you didn't remember everything.\n",
    "You can always reference the tutorial again, and we invite you to reference the\n",
    "documentation for further information. "
   ]
  }
 ],
 "metadata": {
  "kernelspec": {
   "display_name": "venv",
   "language": "python",
   "name": "python3"
  },
  "language_info": {
   "codemirror_mode": {
    "name": "ipython",
    "version": 3
   },
   "file_extension": ".py",
   "mimetype": "text/x-python",
   "name": "python",
   "nbconvert_exporter": "python",
   "pygments_lexer": "ipython3",
   "version": "3.11.0"
  }
 },
 "nbformat": 4,
 "nbformat_minor": 2
}
